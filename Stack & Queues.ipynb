{
 "cells": [
  {
   "cell_type": "code",
   "execution_count": 7,
   "metadata": {},
   "outputs": [
    {
     "name": "stdout",
     "output_type": "stream",
     "text": [
      "Pushing elements into stack: \n",
      "[7, 0, 0, 0]\n",
      "[7, 2, 0, 0]\n",
      "[7, 2, 8, 0]\n",
      "[7, 2, 8, 9]\n",
      "\n",
      "\n",
      "Stack Overflow\n",
      "[7, 2, 8, 9]\n",
      "\n",
      "Popping element from stack: \n",
      "[7, 2, 8, 9]\n",
      "\n",
      "Peek in stack: \n",
      "[7, 2, 8, 9]\n",
      "\n",
      "Counting elements in stack: \n",
      "The number of elements in stack is 4 !!!\n",
      "\n",
      "String expression in stack: \n",
      "['{', 0, 0, 0, 0]\n",
      "['(', 0, 0, 0, 0]\n",
      "['[', 0, 0, 0, 0]\n"
     ]
    }
   ],
   "source": [
    "class ArrayStack:\n",
    "    def __init__(self,size):\n",
    "        self.size=size\n",
    "        self.List=[0 for i in range(size)]\n",
    "        self.top=0\n",
    "    def Push(self,value):\n",
    "        if self.top!=self.size:\n",
    "            self.List[self.top]=value\n",
    "            self.top=self.top+1\n",
    "            print(self.List)\n",
    "        else:\n",
    "            print(\"Stack Overflow\")\n",
    "    def Pop(self):\n",
    "        if self.IsEmpty():\n",
    "            print(\"Stack Underflow\")\n",
    "        self.top=self.top-1\n",
    "        x=self.List[self.top]\n",
    "        return x\n",
    "        \n",
    "    def IsEmpty(self):\n",
    "        if self.top==0:\n",
    "            print(\"Stack Underflow\")\n",
    "    def Peek(self):\n",
    "        return (self.List[self.top - 1])\n",
    "    def Count(self):\n",
    "        print (\"The number of elements in stack is\",self.size,\"!!!\")\n",
    "    def strExp(self,String):\n",
    "        s=ArrayStack(len(String))\n",
    "        for i in String:\n",
    "            if i == \"(\" or i== \"{\" or i == \"[\":\n",
    "                s.Push(i)\n",
    "            \n",
    "            elif i == \")\" or i== \"}\" or i== \"]\":\n",
    "                s.Pop()\n",
    "            \n",
    "        if s.IsEmpty() == True:\n",
    "            print(\"True\")\n",
    "    def Print(self):\n",
    "        print(self.List)\n",
    "\n",
    "        \n",
    "# Driver Code \n",
    "\n",
    "size=4\n",
    "ob=ArrayStack(size)\n",
    "\n",
    "print(\"Pushing elements into stack: \")\n",
    "\n",
    "ob.Push(7)\n",
    "ob.Push(2)\n",
    "ob.Push(8)\n",
    "ob.Push(9)\n",
    "print(\"\\n\")\n",
    "ob.Push(2)\n",
    "ob.Print()\n",
    "\n",
    "print(\"\\nPopping element from stack: \")\n",
    "\n",
    "ob.Pop()\n",
    "ob.Print()\n",
    "\n",
    "print(\"\\nPeek in stack: \")\n",
    "\n",
    "\n",
    "ob.Peek()\n",
    "ob.Print()\n",
    "\n",
    "print(\"\\nCounting elements in stack: \")\n",
    "ob.Count()\n",
    "\n",
    "print(\"\\nString expression in stack: \")\n",
    "String = \"{}()[\"\n",
    "ob.strExp(String)\n"
   ]
  },
  {
   "cell_type": "code",
   "execution_count": 11,
   "metadata": {},
   "outputs": [
    {
     "name": "stdout",
     "output_type": "stream",
     "text": [
      "\n",
      "Enqueing: \n",
      "\n",
      "[5, 0, 0]\n",
      "[5, 2, 0]\n",
      "\n",
      "Dequeuing:\n"
     ]
    },
    {
     "data": {
      "text/plain": [
       "2"
      ]
     },
     "execution_count": 11,
     "metadata": {},
     "output_type": "execute_result"
    }
   ],
   "source": [
    "class ArrayQueue:\n",
    "    def __init__(self,size):\n",
    "        self.size=size\n",
    "        self.List=[0 for i in range(size)]\n",
    "        self.front=0\n",
    "        self.rear=0\n",
    "        self.count=0\n",
    "    def Enqueue(self,value):\n",
    "        self.List[self.rear]=value\n",
    "        self.rear=(self.rear+1)%self.size\n",
    "        self.count+=1\n",
    "        print(self.List)\n",
    "    def Dequeue(self):\n",
    "        self.front=(self.front+1)%self.size\n",
    "        return (self.List[self.front])\n",
    "\n",
    "    def IsEmpty(self):\n",
    "        if self.top==0:\n",
    "            print(\"Stack Underflow\")\n",
    "\n",
    "\n",
    "\n",
    "size=3\n",
    "ob=ArrayQueue(size)\n",
    "\n",
    "print(\"\\nEnqueing: \\n\")\n",
    "ob.Enqueue(5)\n",
    "ob.Enqueue(2)\n",
    "\n",
    "print(\"\\nDequeuing:\")\n",
    "ob.Dequeue()\n",
    "\n"
   ]
  },
  {
   "cell_type": "code",
   "execution_count": null,
   "metadata": {},
   "outputs": [],
   "source": []
  }
 ],
 "metadata": {
  "kernelspec": {
   "display_name": "Python 3",
   "language": "python",
   "name": "python3"
  },
  "language_info": {
   "codemirror_mode": {
    "name": "ipython",
    "version": 3
   },
   "file_extension": ".py",
   "mimetype": "text/x-python",
   "name": "python",
   "nbconvert_exporter": "python",
   "pygments_lexer": "ipython3",
   "version": "3.8.5"
  }
 },
 "nbformat": 4,
 "nbformat_minor": 2
}
